{
 "cells": [
  {
   "cell_type": "markdown",
   "id": "13ef5e71",
   "metadata": {},
   "source": [
    "# Most Valuable Player (MVP) Analysis"
   ]
  },
  {
   "cell_type": "markdown",
   "id": "08618f79",
   "metadata": {},
   "source": [
    "\n",
    "This notebook provides an analysis to determine the Most Valuable Player (MVP) from various soccer leagues. \n",
    "The MVP is calculated based on a combination of positive impact metrics and negative impact metrics.\n"
   ]
  },
  {
   "cell_type": "markdown",
   "id": "8d8ab590",
   "metadata": {},
   "source": [
    "## Data Loading"
   ]
  },
  {
   "cell_type": "code",
   "execution_count": 30,
   "id": "fe3715a0",
   "metadata": {},
   "outputs": [],
   "source": [
    "import pandas as pd\n",
    "player_stats_data = pd.read_csv('2022-2023 Football Player Stats.csv', encoding='ISO-8859-1', delimiter=';')"
   ]
  },
  {
   "cell_type": "code",
   "execution_count": 67,
   "id": "6654f470-7209-4a3e-a3aa-98dd9ebe12ca",
   "metadata": {},
   "outputs": [],
   "source": [
    "# set a minimum number of minutes played to be considered \n",
    "player_stats_data = player_stats_data[player_stats_data['Min'] >= 650]"
   ]
  },
  {
   "cell_type": "markdown",
   "id": "fe680280",
   "metadata": {},
   "source": [
    "## MVP Calculation"
   ]
  },
  {
   "cell_type": "code",
   "execution_count": 68,
   "id": "9f7f517e",
   "metadata": {},
   "outputs": [],
   "source": [
    "# Define weights for different metrics\n",
    "positive_weights = {\n",
    "    'Derived Shot on Target Percentage': 1.0,\n",
    "    'Goals': 3.0,\n",
    "    'PasAss': 0.1,\n",
    "    'Pas3rd': 0.15,\n",
    "    'PasProg': 0.15,\n",
    "    'Sw': 0.15,\n",
    "    'ScaDrib': 0.2,\n",
    "    'ScaSh': 0.3,\n",
    "    'GCA': 0.75,\n",
    "    'PasMedCmp': 0.12,\n",
    "    'PasLonCmp': 0.17,\n",
    "    'Assists': 1.5,\n",
    "    'PasAss': 0.4,\n",
    "    'PPA': 0.25,\n",
    "    'TB' : 0.25,\n",
    "    'ScaPassLive': 0.3,\n",
    "    'ScaFld': 0.05,\n",
    "    'GcaDrib': 0.25\n",
    "}\n",
    "\n"
   ]
  },
  {
   "cell_type": "code",
   "execution_count": 69,
   "id": "f3d91c64-db61-4647-9fe4-3cfa0a0e9c96",
   "metadata": {},
   "outputs": [],
   "source": [
    "# Negative Weights\n",
    "negative_weights = {\n",
    "    'Off': -0.3,\n",
    "    'CrdY': -0.5,\n",
    "    'CrdR': -1.0,\n",
    "    'Fls': -0.2,\n",
    "    'PasBlocks': -0.0\n",
    "}"
   ]
  },
  {
   "cell_type": "code",
   "execution_count": 70,
   "id": "368e3e45-a631-43c8-845b-e33dcf65a177",
   "metadata": {},
   "outputs": [],
   "source": [
    "# Adjust weights based on player position\n",
    "position_adjusted_weights = {\n",
    "    'Goals': {'DF': 1.2, 'MF': 1.1, 'FW': 1.0},\n",
    "    'Int': {'FW': 1.2, 'MF': 1.1, 'DF': 1.0}  # Assuming 'Int' represents interceptions\n",
    "}"
   ]
  },
  {
   "cell_type": "code",
   "execution_count": 71,
   "id": "d6028e11-1063-47e0-ba6a-05c866eaf154",
   "metadata": {},
   "outputs": [],
   "source": [
    "# Update the existing weights with the position-adjusted weights\n",
    "for metric, weight_dict in position_adjusted_weights.items():\n",
    "    for position, weight in weight_dict.items():\n",
    "        if metric in positive_weights:\n",
    "            positive_weights[metric] *= weight"
   ]
  },
  {
   "cell_type": "code",
   "execution_count": 72,
   "id": "e8a4df08-cb8d-4200-804e-918d222f48ec",
   "metadata": {},
   "outputs": [],
   "source": [
    "# Make sure we have a deep copy of filtered_data_half_season to work on\n",
    "filtered_data_updated = filtered_data_half_season.copy()\n"
   ]
  },
  {
   "cell_type": "code",
   "execution_count": 73,
   "id": "ac447200-c63a-4ebe-af3e-2095de869710",
   "metadata": {},
   "outputs": [],
   "source": [
    "# Compute the positive and negative impact scores with adjusted weights\n",
    "for metric, weight in positive_weights.items():\n",
    "    filtered_data_updated[metric + ' Weighted'] = filtered_data_updated[metric] * weight\n",
    "\n",
    "for metric, weight in negative_weights.items():\n",
    "    filtered_data_updated[metric + ' Weighted'] = filtered_data_updated[metric] * weight\n",
    "\n",
    "filtered_data_updated['Positive Score'] = filtered_data_updated[[metric + ' Weighted' for metric in positive_weights.keys()]].sum(axis=1)\n",
    "filtered_data_updated['Negative Score'] = filtered_data_updated[[metric + ' Weighted' for metric in negative_weights.keys()]].sum(axis=1)"
   ]
  },
  {
   "cell_type": "code",
   "execution_count": 74,
   "id": "7abceb18-295a-49a8-81ad-95a7e3b66e11",
   "metadata": {},
   "outputs": [],
   "source": [
    "# Adjust weights based on player position\n",
    "position_adjusted_weights = {\n",
    "    'Goals': {'DF': 1.2, 'MF': 1.1, 'FW': 1.0},\n",
    "    'Int': {'FW': 1.2, 'MF': 1.1, 'DF': 1.0}  # Assuming 'Int' represents interceptions\n",
    "}"
   ]
  },
  {
   "cell_type": "code",
   "execution_count": 75,
   "id": "191b55e9-d19f-4ced-9d09-e6f43ef8cbe6",
   "metadata": {},
   "outputs": [],
   "source": [
    "# Compute the overall MVP score\n",
    "filtered_data_updated['Adjusted MVP Score'] = filtered_data_updated['Positive Score'] + filtered_data_updated['Negative Score']"
   ]
  },
  {
   "cell_type": "code",
   "execution_count": 76,
   "id": "2b705a09-5e17-4035-b312-13ba444787cb",
   "metadata": {},
   "outputs": [],
   "source": [
    "# Define the list of positions\n",
    "positions = ['DF', 'MF', 'FW']"
   ]
  },
  {
   "cell_type": "code",
   "execution_count": 77,
   "id": "3418e1c4-ffcc-49aa-8052-b0f47edceb1c",
   "metadata": {},
   "outputs": [],
   "source": [
    "# Function to retrieve top 3 players for each position in each league\n",
    "def top_3_by_position(league_data, position):\n",
    "    return league_data[league_data['Pos'].str.contains(position)].nlargest(3, 'Adjusted MVP Score')[['Player', 'Adjusted MVP Score']]"
   ]
  },
  {
   "cell_type": "code",
   "execution_count": 78,
   "id": "6258142b-4e88-4b33-9b16-632b5e090a13",
   "metadata": {},
   "outputs": [],
   "source": [
    "# Collect the results\n",
    "results_corrected = {}\n",
    "for league in filtered_data_updated['Comp'].unique():\n",
    "    league_data = filtered_data_updated[filtered_data_updated['Comp'] == league]\n",
    "    results_corrected[league] = {position: top_3_by_position(league_data, position) for position in positions}"
   ]
  },
  {
   "cell_type": "code",
   "execution_count": 79,
   "id": "bac60120-524d-4608-abcc-f42ae1b076c0",
   "metadata": {},
   "outputs": [
    {
     "name": "stdout",
     "output_type": "stream",
     "text": [
      "### Premier League\n",
      "\n",
      "**DF**\n",
      "          Player  Adjusted MVP Score\n",
      "     Jonny Evans          107.259200\n",
      "Cheikhou Kouyaté          105.730900\n",
      "      Phil Foden           84.377669\n",
      "\n",
      "**MF**\n",
      "            Player  Adjusted MVP Score\n",
      "  Cheikhou Kouyaté            105.7309\n",
      "Idrissa Gana Gueye            104.1346\n",
      "   Roberto Firmino             94.1677\n",
      "\n",
      "**FW**\n",
      "         Player  Adjusted MVP Score\n",
      " Erling Haaland          152.576871\n",
      "     Harry Kane          116.071242\n",
      "Roberto Firmino           94.167700\n",
      "\n",
      "### Ligue 1\n",
      "\n",
      "**DF**\n",
      "      Player  Adjusted MVP Score\n",
      "Lucas Perrin            104.3185\n",
      " Nuno Mendes             89.2300\n",
      " Juan Bernat             88.0853\n",
      "\n",
      "**MF**\n",
      "        Player  Adjusted MVP Score\n",
      "        Neymar          107.289398\n",
      "Martin Terrier           98.557900\n",
      "  Lionel Messi           93.590466\n",
      "\n",
      "**FW**\n",
      "           Player  Adjusted MVP Score\n",
      "Wissam Ben Yedder          123.447946\n",
      "           Neymar          107.289398\n",
      "    Kylian Mbappé          106.228300\n",
      "\n",
      "### Serie A\n",
      "\n",
      "**DF**\n",
      "      Player  Adjusted MVP Score\n",
      "Elseid Hysaj          104.760000\n",
      "Stefan Posch           79.001545\n",
      " Omar Colley           74.665067\n",
      "\n",
      "**MF**\n",
      "          Player  Adjusted MVP Score\n",
      " Ademola Lookman           92.019039\n",
      "Tommaso Baldanzi           78.575328\n",
      " Mattia Zaccagni           76.599932\n",
      "\n",
      "**FW**\n",
      "          Player  Adjusted MVP Score\n",
      "  Victor Osimhen          105.518638\n",
      " Ademola Lookman           92.019039\n",
      "Lautaro Martínez           89.402208\n",
      "\n",
      "### La Liga\n",
      "\n",
      "**DF**\n",
      "             Player  Adjusted MVP Score\n",
      "       Víctor Chust          107.719600\n",
      "        David López           75.867762\n",
      "Andreas Christensen           73.985574\n",
      "\n",
      "**MF**\n",
      "       Player  Adjusted MVP Score\n",
      "Gabriel Veiga           82.579215\n",
      "        Pedri           78.745700\n",
      "Álvaro García           77.853590\n",
      "\n",
      "**FW**\n",
      "            Player  Adjusted MVP Score\n",
      "Robert Lewandowski          110.666170\n",
      "       Sergio León           89.742221\n",
      "            Joselu           87.071114\n",
      "\n",
      "### Bundesliga\n",
      "\n",
      "**DF**\n",
      "        Player  Adjusted MVP Score\n",
      "Danilho Doekhi          119.534500\n",
      "  Paul Jaeckel          107.809300\n",
      " Erhan Maovi?           85.919314\n",
      "\n",
      "**MF**\n",
      "            Player  Adjusted MVP Score\n",
      "    Sebastian Rode           93.773600\n",
      "Christopher Nkunku           93.376191\n",
      "    Vincenzo Grifo           93.125084\n",
      "\n",
      "**FW**\n",
      "            Player  Adjusted MVP Score\n",
      "   Niclas Füllkrug           94.106027\n",
      "Christopher Nkunku           93.376191\n",
      "    Vincenzo Grifo           93.125084\n",
      "\n",
      "\n"
     ]
    }
   ],
   "source": [
    "# Display the results in a formatted manner\n",
    "formatted_results_corrected = \"\"\n",
    "for league, positions_data in results_corrected.items():\n",
    "    formatted_results_corrected += f\"### {league}\\n\\n\"\n",
    "    for position, data in positions_data.items():\n",
    "        formatted_results_corrected += f\"**{position}**\\n\"\n",
    "        formatted_results_corrected += data.to_string(index=False) + \"\\n\\n\"\n",
    "\n",
    "print(formatted_results_corrected)"
   ]
  },
  {
   "cell_type": "markdown",
   "id": "513c7243",
   "metadata": {},
   "source": []
  },
  {
   "cell_type": "code",
   "execution_count": null,
   "id": "b4ffea0a-99d6-4924-8780-f8f713e09a04",
   "metadata": {},
   "outputs": [],
   "source": []
  }
 ],
 "metadata": {
  "kernelspec": {
   "display_name": "Python 3 (ipykernel)",
   "language": "python",
   "name": "python3"
  },
  "language_info": {
   "codemirror_mode": {
    "name": "ipython",
    "version": 3
   },
   "file_extension": ".py",
   "mimetype": "text/x-python",
   "name": "python",
   "nbconvert_exporter": "python",
   "pygments_lexer": "ipython3",
   "version": "3.11.5"
  }
 },
 "nbformat": 4,
 "nbformat_minor": 5
}
